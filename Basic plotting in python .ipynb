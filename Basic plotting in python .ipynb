{
 "cells": [
  {
   "cell_type": "code",
   "execution_count": 2,
   "metadata": {},
   "outputs": [
    {
     "name": "stdout",
     "output_type": "stream",
     "text": [
      "My name is Ridham Sheth, I'm from India.\n"
     ]
    }
   ],
   "source": [
    "print(\"My name is Ridham Sheth, I'm from India.\")"
   ]
  },
  {
   "cell_type": "code",
   "execution_count": 3,
   "metadata": {},
   "outputs": [
    {
     "name": "stdout",
     "output_type": "stream",
     "text": [
      "55\n"
     ]
    }
   ],
   "source": [
    "ages = [ 23,55,67,100,18]\n",
    "print(ages[1])"
   ]
  },
  {
   "cell_type": "code",
   "execution_count": 19,
   "metadata": {},
   "outputs": [
    {
     "name": "stdout",
     "output_type": "stream",
     "text": [
      "52.6\n"
     ]
    }
   ],
   "source": [
    "mean_ages = sum(ages)/len(ages)\n",
    "print(mean_ages)"
   ]
  },
  {
   "cell_type": "code",
   "execution_count": 12,
   "metadata": {},
   "outputs": [
    {
     "name": "stdout",
     "output_type": "stream",
     "text": [
      "[ 23  55  67 100  18]\n"
     ]
    },
    {
     "data": {
      "text/plain": [
       "52.6"
      ]
     },
     "execution_count": 12,
     "metadata": {},
     "output_type": "execute_result"
    }
   ],
   "source": [
    "import numpy as np\n",
    "\n",
    "ages = [23,55,67,100,18]\n",
    "\n",
    "ages= np.array(ages)\n",
    "print(ages)\n",
    "ages.mean()"
   ]
  },
  {
   "cell_type": "code",
   "execution_count": 14,
   "metadata": {},
   "outputs": [
    {
     "name": "stdout",
     "output_type": "stream",
     "text": [
      "[ 23  55  67 100  18]\n",
      "30.110463297664484\n"
     ]
    }
   ],
   "source": [
    "std_ages = np.std(ages)\n",
    "print(ages)\n",
    "print(std_ages)"
   ]
  },
  {
   "cell_type": "code",
   "execution_count": 20,
   "metadata": {},
   "outputs": [
    {
     "name": "stdout",
     "output_type": "stream",
     "text": [
      "18\n"
     ]
    }
   ],
   "source": [
    "print(ages[4])"
   ]
  },
  {
   "cell_type": "code",
   "execution_count": 3,
   "metadata": {},
   "outputs": [
    {
     "data": {
      "text/plain": [
       "<matplotlib.collections.PathCollection at 0x779bc1032438>"
      ]
     },
     "execution_count": 3,
     "metadata": {},
     "output_type": "execute_result"
    },
    {
     "data": {
      "image/png": "[encoded data removed]",
      "text/plain": [
       "<Figure size 432x288 with 1 Axes>"
      ]
     },
     "metadata": {},
     "output_type": "display_data"
    }
   ],
   "source": [
    "import matplotlib.pyplot as plt\n",
    "\n",
    "x = [52,20,90,150,50]\n",
    "y = [90,40,56,25,102]\n",
    "\n",
    "plt.scatter(x,y)"
   ]
  },
  {
   "cell_type": "code",
   "execution_count": 14,
   "metadata": {},
   "outputs": [
    {
     "name": "stdout",
     "output_type": "stream",
     "text": [
      "[72.4 62.6]\n"
     ]
    },
    {
     "data": {
      "text/plain": [
       "<matplotlib.collections.PathCollection at 0x779c1878cc50>"
      ]
     },
     "execution_count": 14,
     "metadata": {},
     "output_type": "execute_result"
    },
    {
     "data": {
      "image/png": "[encoded data removed]",
      "text/plain": [
       "<Figure size 432x288 with 1 Axes>"
      ]
     },
     "metadata": {},
     "output_type": "display_data"
    }
   ],
   "source": [
    "import matplotlib.pyplot as plt\n",
    "import numpy as np\n",
    "\n",
    "x = [52,20,90,150,50]\n",
    "y = [90,40,56,25,102]\n",
    "\n",
    "xy = [[52,90],[20,40],[90,56],[150,25],[50,102]]\n",
    "xy = np.array(xy)\n",
    "\n",
    "mean = np.mean(xy,0)\n",
    "print(mean)\n",
    "\n",
    "plt.scatter(mean[0],mean[1])\n",
    "plt.scatter(xy[:,0],xy[:,1])"
   ]
  },
  {
   "cell_type": "code",
   "execution_count": 30,
   "metadata": {},
   "outputs": [
    {
     "data": {
      "text/plain": [
       "<matplotlib.patches.Ellipse at 0x779c18363748>"
      ]
     },
     "execution_count": 30,
     "metadata": {},
     "output_type": "execute_result"
    },
    {
     "data": {
      "image/png": "[encoded data removed]",
      "text/plain": [
       "<Figure size 432x288 with 1 Axes>"
      ]
     },
     "metadata": {},
     "output_type": "display_data"
    }
   ],
   "source": [
    "import matplotlib.patches as ptc\n",
    "\n",
    "mean = np.mean(xy,0)\n",
    "sd = np.std(xy,0)\n",
    "\n",
    "ellipse = ptc.Ellipse([mean[0], mean[1]], sd[0]*2, sd[1]*2, alpha = 0.25)\n",
    "\n",
    "fig,graph = plt.subplots()\n",
    "\n",
    "graph.scatter(xy[:,0], xy[:,1])\n",
    "graph.scatter(mean[0], mean[1])\n",
    "graph.add_patch(ellipse)"
   ]
  },
  {
   "cell_type": "code",
   "execution_count": 38,
   "metadata": {},
   "outputs": [
    {
     "name": "stdout",
     "output_type": "stream",
     "text": [
      "34.160210772183476\n",
      "[34.160210772183476, 57.06592678648092, 18.796808239698564, 86.22946132268251, 45.3224006425079]\n"
     ]
    }
   ],
   "source": [
    "dist = np.linalg.norm(xy[0]-mean)\n",
    "print(dist)\n",
    "\n",
    "# Lists comprehension \n",
    "dists = [np.linalg.norm(xy-mean) for xy in xy]\n",
    "print(dists)"
   ]
  },
  {
   "cell_type": "code",
   "execution_count": 44,
   "metadata": {},
   "outputs": [
    {
     "name": "stdout",
     "output_type": "stream",
     "text": [
      "[[0.24615385 0.84415584]\n",
      " [0.         0.19480519]\n",
      " [0.53846154 0.4025974 ]\n",
      " [1.         0.        ]\n",
      " [0.23076923 1.        ]]\n"
     ]
    }
   ],
   "source": [
    "#Normalisation \n",
    "min = np.min(xy,0)\n",
    "max = np.max(xy,0)\n",
    "\n",
    "normed = (xy - min) / (max - min) \n",
    "print(normed)"
   ]
  },
  {
   "cell_type": "code",
   "execution_count": 50,
   "metadata": {},
   "outputs": [
    {
     "data": {
      "text/plain": [
       "<matplotlib.patches.Ellipse at 0x779c18249710>"
      ]
     },
     "execution_count": 50,
     "metadata": {},
     "output_type": "execute_result"
    },
    {
     "data": {
      "image/png": "[encoded data removed]",
      "text/plain": [
       "<Figure size 432x288 with 1 Axes>"
      ]
     },
     "metadata": {},
     "output_type": "display_data"
    }
   ],
   "source": [
    "# Normalised Graph Ploting\n",
    "import matplotlib.patches as ptc\n",
    "\n",
    "mean = np.mean(normed,0)\n",
    "sd = np.std(normed,0)\n",
    "\n",
    "ellipse = ptc.Ellipse([mean[0], mean[1]], sd[0]*2, sd[1]*2, alpha = 0.25)\n",
    "\n",
    "fig,graph = plt.subplots()\n",
    "\n",
    "graph.scatter(normed[:,0], normed[:,1])\n",
    "graph.scatter(mean[0], mean[1])\n",
    "graph.add_patch(ellipse)"
   ]
  }
 ],
 "metadata": {
  "kernelspec": {
   "display_name": "Python 3",
   "language": "python",
   "name": "python3"
  },
  "language_info": {
   "codemirror_mode": {
    "name": "ipython",
    "version": 3
   },
   "file_extension": ".py",
   "mimetype": "text/x-python",
   "name": "python",
   "nbconvert_exporter": "python",
   "pygments_lexer": "ipython3",
   "version": "3.6.3"
  }
 },
 "nbformat": 4,
 "nbformat_minor": 2
}
